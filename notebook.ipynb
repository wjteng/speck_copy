{
  "nbformat": 4,
  "nbformat_minor": 0,
  "metadata": {
    "colab": {
      "name": "Key Recovery (LBC-IoT)",
      "provenance": []
    },
    "kernelspec": {
      "name": "python3",
      "display_name": "Python 3"
    },
    "language_info": {
      "name": "python"
    },
    "accelerator": "GPU"
  },
  "cells": [
    {
      "cell_type": "code",
      "execution_count": 2,
      "metadata": {
        "colab": {
          "base_uri": "https://localhost:8080/"
        },
        "id": "Tk_nxvZP_uUc",
        "outputId": "d2810739-8989-438c-ca4f-f899f02d5b8c"
      },
      "outputs": [
        {
          "output_type": "stream",
          "name": "stdout",
          "text": [
            "Drive already mounted at /content/gdrive/; to attempt to forcibly remount, call drive.mount(\"/content/gdrive/\", force_remount=True).\n",
            "fatal: destination path 'LBC-IoT_Github' already exists and is not an empty directory.\n",
            "Epoch 1/40\n",
            "200/200 [==============================] - 51s 219ms/step - loss: 0.2601 - acc: 0.4998 - val_loss: 0.2573 - val_acc: 0.5014 - lr: 0.0020\n",
            "Epoch 2/40\n",
            "200/200 [==============================] - 43s 213ms/step - loss: 0.2567 - acc: 0.5025 - val_loss: 0.2558 - val_acc: 0.4976 - lr: 0.0018\n",
            "Epoch 3/40\n",
            "200/200 [==============================] - 43s 213ms/step - loss: 0.2552 - acc: 0.5045 - val_loss: 0.2546 - val_acc: 0.5022 - lr: 0.0016\n",
            "Epoch 4/40\n",
            "200/200 [==============================] - 42s 212ms/step - loss: 0.2541 - acc: 0.5063 - val_loss: 0.2538 - val_acc: 0.5016 - lr: 0.0014\n",
            "Epoch 5/40\n",
            "200/200 [==============================] - 43s 214ms/step - loss: 0.2532 - acc: 0.5093 - val_loss: 0.2531 - val_acc: 0.5020 - lr: 0.0012\n",
            "Epoch 6/40\n",
            "200/200 [==============================] - 42s 212ms/step - loss: 0.2527 - acc: 0.5119 - val_loss: 0.2529 - val_acc: 0.4992 - lr: 9.4444e-04\n",
            "Epoch 7/40\n",
            "200/200 [==============================] - 42s 211ms/step - loss: 0.2522 - acc: 0.5171 - val_loss: 0.2531 - val_acc: 0.5018 - lr: 7.3333e-04\n",
            "Epoch 8/40\n",
            "200/200 [==============================] - 42s 211ms/step - loss: 0.2515 - acc: 0.5250 - val_loss: 0.2532 - val_acc: 0.5019 - lr: 5.2222e-04\n",
            "Epoch 9/40\n",
            "200/200 [==============================] - 42s 210ms/step - loss: 0.2501 - acc: 0.5381 - val_loss: 0.2542 - val_acc: 0.5020 - lr: 3.1111e-04\n",
            "Epoch 10/40\n",
            "200/200 [==============================] - 42s 212ms/step - loss: 0.2473 - acc: 0.5573 - val_loss: 0.2565 - val_acc: 0.5027 - lr: 1.0000e-04\n",
            "Epoch 11/40\n",
            "200/200 [==============================] - 42s 210ms/step - loss: 0.2520 - acc: 0.5187 - val_loss: 0.2537 - val_acc: 0.5045 - lr: 0.0020\n",
            "Epoch 12/40\n",
            "200/200 [==============================] - 42s 211ms/step - loss: 0.2515 - acc: 0.5245 - val_loss: 0.2532 - val_acc: 0.4991 - lr: 0.0018\n",
            "Epoch 13/40\n",
            "200/200 [==============================] - 42s 211ms/step - loss: 0.2512 - acc: 0.5279 - val_loss: 0.2534 - val_acc: 0.4996 - lr: 0.0016\n",
            "Epoch 14/40\n",
            "200/200 [==============================] - 42s 211ms/step - loss: 0.2507 - acc: 0.5318 - val_loss: 0.2533 - val_acc: 0.5026 - lr: 0.0014\n",
            "Epoch 15/40\n",
            "200/200 [==============================] - 42s 210ms/step - loss: 0.2502 - acc: 0.5377 - val_loss: 0.2559 - val_acc: 0.5007 - lr: 0.0012\n",
            "Epoch 16/40\n",
            "200/200 [==============================] - 42s 210ms/step - loss: 0.2493 - acc: 0.5448 - val_loss: 0.2554 - val_acc: 0.4997 - lr: 9.4444e-04\n",
            "Epoch 17/40\n",
            "200/200 [==============================] - 42s 211ms/step - loss: 0.2479 - acc: 0.5552 - val_loss: 0.2585 - val_acc: 0.5021 - lr: 7.3333e-04\n",
            "Epoch 18/40\n",
            "200/200 [==============================] - 42s 210ms/step - loss: 0.2455 - acc: 0.5679 - val_loss: 0.2640 - val_acc: 0.4996 - lr: 5.2222e-04\n",
            "Epoch 19/40\n",
            "200/200 [==============================] - 42s 211ms/step - loss: 0.2418 - acc: 0.5844 - val_loss: 0.2614 - val_acc: 0.5025 - lr: 3.1111e-04\n",
            "Epoch 20/40\n",
            "200/200 [==============================] - 42s 210ms/step - loss: 0.2366 - acc: 0.6030 - val_loss: 0.2664 - val_acc: 0.5035 - lr: 1.0000e-04\n",
            "Epoch 21/40\n",
            "200/200 [==============================] - 42s 208ms/step - loss: 0.2487 - acc: 0.5512 - val_loss: 0.2569 - val_acc: 0.5039 - lr: 0.0020\n",
            "Epoch 22/40\n",
            "200/200 [==============================] - 42s 211ms/step - loss: 0.2479 - acc: 0.5574 - val_loss: 0.2570 - val_acc: 0.5023 - lr: 0.0018\n",
            "Epoch 23/40\n",
            "200/200 [==============================] - 42s 210ms/step - loss: 0.2470 - acc: 0.5631 - val_loss: 0.2589 - val_acc: 0.5011 - lr: 0.0016\n",
            "Epoch 24/40\n",
            "200/200 [==============================] - 42s 210ms/step - loss: 0.2459 - acc: 0.5695 - val_loss: 0.2629 - val_acc: 0.4997 - lr: 0.0014\n",
            "Epoch 25/40\n",
            "200/200 [==============================] - 42s 209ms/step - loss: 0.2442 - acc: 0.5783 - val_loss: 0.2623 - val_acc: 0.4986 - lr: 0.0012\n",
            "Epoch 26/40\n",
            "200/200 [==============================] - 42s 210ms/step - loss: 0.2421 - acc: 0.5871 - val_loss: 0.2625 - val_acc: 0.5013 - lr: 9.4444e-04\n",
            "Epoch 27/40\n",
            "200/200 [==============================] - 42s 209ms/step - loss: 0.2391 - acc: 0.5983 - val_loss: 0.2741 - val_acc: 0.4998 - lr: 7.3333e-04\n",
            "Epoch 28/40\n",
            "200/200 [==============================] - 42s 209ms/step - loss: 0.2351 - acc: 0.6118 - val_loss: 0.2705 - val_acc: 0.5034 - lr: 5.2222e-04\n",
            "Epoch 29/40\n",
            "200/200 [==============================] - 42s 209ms/step - loss: 0.2300 - acc: 0.6276 - val_loss: 0.2749 - val_acc: 0.5042 - lr: 3.1111e-04\n",
            "Epoch 30/40\n",
            "200/200 [==============================] - 42s 209ms/step - loss: 0.2242 - acc: 0.6445 - val_loss: 0.2797 - val_acc: 0.5020 - lr: 1.0000e-04\n",
            "Epoch 31/40\n",
            "200/200 [==============================] - 42s 210ms/step - loss: 0.2432 - acc: 0.5841 - val_loss: 0.2729 - val_acc: 0.4985 - lr: 0.0020\n",
            "Epoch 32/40\n",
            "200/200 [==============================] - 42s 209ms/step - loss: 0.2422 - acc: 0.5891 - val_loss: 0.2686 - val_acc: 0.4997 - lr: 0.0018\n",
            "Epoch 33/40\n",
            "200/200 [==============================] - 42s 210ms/step - loss: 0.2408 - acc: 0.5948 - val_loss: 0.2706 - val_acc: 0.5037 - lr: 0.0016\n",
            "Epoch 34/40\n",
            "200/200 [==============================] - 42s 210ms/step - loss: 0.2391 - acc: 0.6020 - val_loss: 0.2683 - val_acc: 0.5010 - lr: 0.0014\n",
            "Epoch 35/40\n",
            "200/200 [==============================] - 42s 211ms/step - loss: 0.2369 - acc: 0.6098 - val_loss: 0.2737 - val_acc: 0.5020 - lr: 0.0012\n",
            "Epoch 36/40\n",
            "200/200 [==============================] - 42s 212ms/step - loss: 0.2340 - acc: 0.6191 - val_loss: 0.2767 - val_acc: 0.4989 - lr: 9.4444e-04\n",
            "Epoch 37/40\n",
            "200/200 [==============================] - 42s 211ms/step - loss: 0.2305 - acc: 0.6294 - val_loss: 0.2809 - val_acc: 0.5020 - lr: 7.3333e-04\n",
            "Epoch 38/40\n",
            "200/200 [==============================] - 42s 211ms/step - loss: 0.2261 - acc: 0.6425 - val_loss: 0.2855 - val_acc: 0.5024 - lr: 5.2222e-04\n",
            "Epoch 39/40\n",
            "200/200 [==============================] - 42s 211ms/step - loss: 0.2209 - acc: 0.6559 - val_loss: 0.2860 - val_acc: 0.5017 - lr: 3.1111e-04\n",
            "Epoch 40/40\n",
            "200/200 [==============================] - 42s 209ms/step - loss: 0.2149 - acc: 0.6712 - val_loss: 0.2912 - val_acc: 0.5014 - lr: 1.0000e-04\n",
            "Best validation accuracy:  0.5045499801635742\n",
            "INFO:tensorflow:Assets written to: /content/gdrive/MyDrive/LBC-IoT_Github/4096_0_r=8_epoch=40/assets\n"
          ]
        }
      ],
      "source": [
        "from google.colab import drive\n",
        "drive.mount('/content/gdrive/')\n",
        "import sys\n",
        "\n",
        "\n",
        "!git clone https://github.com/wjteng/LBC-IoT_Github.git\n",
        "\n",
        "\n",
        "sys.path.insert(0,'/content/LBC-IoT_Github')\n",
        "\n",
        "import lbciot as cipher\n",
        "import pandas as pd\n",
        "import train_nets as tn\n",
        "\n",
        "rounds = 8;\n",
        "epoch = 40;\n",
        "diff1 = 0x1000;\n",
        "diff2 = 0x0000;\n",
        "\n",
        "name = str(diff1)+\"_\"+str(diff2)+\"_r=\"+str(rounds)+\"_epoch=\"+str(epoch);\n",
        "\n",
        "model, h =tn.train_distinguisher(epoch,(diff1,diff2),num_rounds=rounds,depth=10);\n",
        "\n",
        "model.save('/content/gdrive/MyDrive/LBC-IoT_Github/'+name);"
      ]
    },
    {
      "cell_type": "code",
      "source": [
        "import matplotlib.pyplot as plt\n",
        "# summarize history for accuracy\n",
        "plt.plot(h.history['acc'])\n",
        "plt.plot(h.history['val_acc'])\n",
        "plt.title('model accuracy')\n",
        "plt.ylabel('accuracy')\n",
        "plt.xlabel('epoch')\n",
        "plt.legend(['train', 'test'], loc='upper left')\n",
        "#plt.savefig('/content/gdrive/MyDrive/LBC-IoT_Github/Plots/'+name+'_accuracy.png')\n",
        "plt.show()\n",
        "# summarize history for loss\n",
        "plt.plot(h.history['loss'])\n",
        "plt.plot(h.history['val_loss'])\n",
        "plt.title('model loss')\n",
        "plt.ylabel('loss')\n",
        "plt.xlabel('epoch')\n",
        "plt.legend(['train', 'test'], loc='upper left')\n",
        "#plt.savefig('/content/gdrive/MyDrive/LBC-IoT_Github/Plots/'+name+'_loss.png')\n",
        "plt.show()"
      ],
      "metadata": {
        "colab": {
          "base_uri": "https://localhost:8080/",
          "height": 573
        },
        "id": "xeAJ0fNpbsO6",
        "outputId": "f7fc042d-2d87-41cf-81c2-24cec266d199"
      },
      "execution_count": null,
      "outputs": [
        {
          "output_type": "display_data",
          "data": {
            "text/plain": [
              "<Figure size 432x288 with 1 Axes>"
            ],
            "image/png": "[encoded data removed]"
          },
          "metadata": {
            "needs_background": "light"
          }
        },
        {
          "output_type": "display_data",
          "data": {
            "text/plain": [
              "<Figure size 432x288 with 1 Axes>"
            ],
            "image/png": "[encoded data removed]"
          },
          "metadata": {
            "needs_background": "light"
          }
        }
      ]
    },
    {
      "cell_type": "code",
      "source": [
        "from google.colab import drive\n",
        "drive.mount('/content/gdrive/')\n",
        "\n",
        "import sys\n",
        "sys.path.insert(0,'/content/LBC-IoT_Github')\n",
        "\n",
        "import lbciot as cipher\n",
        "import pandas as pd\n",
        "import train_nets as tn\n",
        "\n",
        "samples = 500;\n",
        "rounds = 8;\n",
        "X,Y = cipher.make_train_data(samples,rounds,(0x0002,0x0000));\n",
        "print(X)\n",
        "print(Y)\n",
        "\n",
        "data = {'ct0l_1':  X[:,0],  'ct0l_2':  X[:,1],  'ct0l_3':  X[:,2],'ct0l_4':  X[:,3],'ct0l_5':  X[:,4],'ct0l_6':  X[:,5],'ct0l_7':  X[:,6],'ct0l_8':  X[:,7], \\\n",
        "        'ct0l_9':  X[:,8],  'ct0l_10':  X[:,9], 'ct0l_11':  X[:,10],'ct0l_12':  X[:,11],'ct0l_13':  X[:,12],'ct0l_14':  X[:,13],'ct0l_15':  X[:,14],'ct0l_16':  X[:,15],\\\n",
        "        'ct0r_1':  X[:,16], 'ct0r_2':  X[:,17],  'ct0r_3':  X[:,18],  'ct0r_4':  X[:,19],   'ct0r_5':  X[:,20],   'ct0r_6':  X[:,21],    'ct0r_7':  X[:,22],   'ct0r_8':  X[:,23], \\\n",
        "        'ct0r_9':  X[:,24], 'ct0r_10':  X[:,25], 'ct0r_11':  X[:,26], 'ct0r_12':  X[:,27],  'ct0r_13':  X[:,28],  'ct0r_14':  X[:,29],  'ct0r_15':  X[:,30],  'ct0r_16':  X[:,31],\\\n",
        "        'ct1l_1':  X[:,32], 'ct1l_2':  X[:,33],  'ct1l_3':  X[:,34],  'ct1l_4':  X[:,35],   'ct1l_5':  X[:,36],   'ct1l_6':  X[:,37],    'ct1l_7':  X[:,38],   'ct1l_8':  X[:,39], \\\n",
        "        'ct1l_9':  X[:,40], 'ct1l_10':  X[:,41], 'ct1l_11':  X[:,42], 'ct1l_12':  X[:,43],  'ct1l_13':  X[:,44],  'ct1l_14':  X[:,45],  'ct1l_15':  X[:,46],  'ct1l_16':  X[:,47],\\\n",
        "        'ct1r_1':  X[:,48], 'ct1r_2':  X[:,49],  'ct1r_3':  X[:,50],  'ct1r_4':  X[:,51],   'ct1r_5':  X[:,52],   'ct1r_6':  X[:,53],    'ct1r_7':  X[:,54],   'ct1r_8':  X[:,55], \\\n",
        "        'ct1r_9':  X[:,56], 'ct1r_10':  X[:,57], 'ct1r_11':  X[:,58], 'ct1r_12':  X[:,59],  'ct1r_13':  X[:,60],  'ct1r_14':  X[:,61],  'ct1r_15':  X[:,62],  'ct1r_16':  X[:,63],\n",
        "        'notrand': Y};\n",
        "\n",
        "df = pd.DataFrame(data);\n",
        "df.to_csv('/content/gdrive/MyDrive/LBC-IoT_Github/'+str(samples)+'_rounds'+str(rounds)+'.csv');"
      ],
      "metadata": {
        "colab": {
          "base_uri": "https://localhost:8080/"
        },
        "id": "k_g-wa8Zh6Xj",
        "outputId": "f2e15e36-d7a5-4231-8660-5084d63676df"
      },
      "execution_count": null,
      "outputs": [
        {
          "output_type": "stream",
          "name": "stdout",
          "text": [
            "Drive already mounted at /content/gdrive/; to attempt to forcibly remount, call drive.mount(\"/content/gdrive/\", force_remount=True).\n",
            "(2, 0)\n",
            "[[0 1 0 ... 1 0 1]\n",
            " [1 0 1 ... 1 0 1]\n",
            " [1 0 0 ... 1 1 1]\n",
            " ...\n",
            " [0 0 1 ... 1 1 1]\n",
            " [1 1 0 ... 1 1 0]\n",
            " [1 1 0 ... 1 1 1]]\n",
            "[1 1 1 1 0 0 1 0 1 1 0 0 1 1 1 1 0 0 0 0 1 0 1 1 1 1 0 1 0 0 0 0 1 0 0 0 0\n",
            " 0 1 1 1 1 0 1 1 1 1 0 0 1 0 1 1 0 1 0 1 0 0 0 1 1 0 0 1 0 1 0 1 1 0 0 1 1\n",
            " 0 0 0 0 0 0 0 1 0 1 0 1 1 1 1 0 1 1 0 1 1 1 1 0 1 0 0 0 0 0 0 1 0 0 1 0 1\n",
            " 0 1 0 1 0 0 0 0 1 0 0 0 1 0 0 0 0 0 1 1 1 1 0 1 1 0 1 1 0 0 1 1 1 0 1 0 1\n",
            " 1 0 0 0 1 0 0 0 0 1 1 0 0 0 0 0 0 1 0 0 1 0 0 0 1 1 1 0 0 0 0 0 0 1 0 1 1\n",
            " 0 0 0 0 1 0 0 0 0 1 0 1 1 1 1 1 0 0 0 0 1 1 1 1 1 0 0 1 0 1 1 1 0 1 0 0 0\n",
            " 1 0 1 0 1 0 0 1 0 1 1 0 1 1 1 0 0 1 1 0 0 0 1 1 1 0 0 1 0 0 0 0 0 0 0 0 0\n",
            " 0 0 1 0 1 0 0 0 0 0 1 1 1 0 0 0 1 1 1 0 1 0 1 1 0 1 0 0 0 0 1 1 1 0 1 1 1\n",
            " 1 1 1 0 1 1 1 1 1 0 1 0 0 1 1 1 1 1 1 0 1 1 0 1 1 1 1 0 1 1 0 0 1 1 1 1 0\n",
            " 1 1 0 0 1 1 0 1 1 1 0 1 1 0 0 1 1 0 0 1 0 1 1 0 1 1 1 1 1 0 1 0 0 0 1 0 1\n",
            " 1 0 1 0 1 0 0 0 1 0 1 1 1 1 1 1 1 1 0 0 1 0 1 1 0 1 1 0 1 0 1 1 1 0 1 0 1\n",
            " 1 0 0 1 1 0 0 1 0 1 0 0 1 1 1 1 1 1 0 0 0 1 0 0 0 1 1 0 0 0 1 1 1 0 0 0 0\n",
            " 1 0 0 0 0 1 0 1 0 1 0 1 1 0 0 0 0 0 0 0 0 0 1 0 0 1 0 1 1 0 1 1 1 0 0 0 0\n",
            " 0 1 0 0 1 0 1 1 0 0 1 0 1 1 0 1 0 0 1]\n"
          ]
        }
      ]
    },
    {
      "cell_type": "code",
      "execution_count": null,
      "metadata": {
        "colab": {
          "base_uri": "https://localhost:8080/",
          "height": 452
        },
        "id": "gwXDTXDjVPj-",
        "outputId": "574a8391-85e3-4cb7-ca14-8b0bc18e88d4"
      },
      "outputs": [
        {
          "output_type": "stream",
          "name": "stdout",
          "text": [
            "Drive already mounted at /content/gdrive/; to attempt to forcibly remount, call drive.mount(\"/content/gdrive/\", force_remount=True).\n",
            "0\n"
          ]
        },
        {
          "output_type": "error",
          "ename": "KeyboardInterrupt",
          "evalue": "ignored",
          "traceback": [
            "\u001b[0;31m---------------------------------------------------------------------------\u001b[0m",
            "\u001b[0;31mKeyboardInterrupt\u001b[0m                         Traceback (most recent call last)",
            "\u001b[0;32m<ipython-input-2-f8f90dfbc41a>\u001b[0m in \u001b[0;36m<module>\u001b[0;34m()\u001b[0m\n\u001b[1;32m     58\u001b[0m   \u001b[0mc1l_dec1\u001b[0m\u001b[0;34m,\u001b[0m\u001b[0mc1r_dec1\u001b[0m \u001b[0;34m=\u001b[0m \u001b[0mcipher\u001b[0m\u001b[0;34m.\u001b[0m\u001b[0mdec_one_round\u001b[0m\u001b[0;34m(\u001b[0m\u001b[0;34m(\u001b[0m\u001b[0mc1l\u001b[0m\u001b[0;34m,\u001b[0m\u001b[0mc1r\u001b[0m\u001b[0;34m)\u001b[0m\u001b[0;34m,\u001b[0m\u001b[0mallkeys\u001b[0m\u001b[0;34m)\u001b[0m\u001b[0;34m;\u001b[0m\u001b[0;34m\u001b[0m\u001b[0;34m\u001b[0m\u001b[0m\n\u001b[1;32m     59\u001b[0m   \u001b[0mX\u001b[0m \u001b[0;34m=\u001b[0m \u001b[0mcipher\u001b[0m\u001b[0;34m.\u001b[0m\u001b[0mconvert_to_binary\u001b[0m\u001b[0;34m(\u001b[0m\u001b[0;34m[\u001b[0m\u001b[0mc0l_dec1\u001b[0m\u001b[0;34m,\u001b[0m\u001b[0mc0r_dec1\u001b[0m\u001b[0;34m,\u001b[0m\u001b[0mc1l_dec1\u001b[0m\u001b[0;34m,\u001b[0m\u001b[0mc1r_dec1\u001b[0m\u001b[0;34m]\u001b[0m\u001b[0;34m)\u001b[0m\u001b[0;34m;\u001b[0m\u001b[0;34m\u001b[0m\u001b[0;34m\u001b[0m\u001b[0m\n\u001b[0;32m---> 60\u001b[0;31m   \u001b[0mZ\u001b[0m \u001b[0;34m=\u001b[0m \u001b[0mmodel\u001b[0m\u001b[0;34m.\u001b[0m\u001b[0mpredict\u001b[0m\u001b[0;34m(\u001b[0m\u001b[0mX\u001b[0m\u001b[0;34m,\u001b[0m\u001b[0mbatch_size\u001b[0m\u001b[0;34m=\u001b[0m\u001b[0;36m10000\u001b[0m\u001b[0;34m)\u001b[0m\u001b[0;34m;\u001b[0m\u001b[0;34m\u001b[0m\u001b[0;34m\u001b[0m\u001b[0m\n\u001b[0m\u001b[1;32m     61\u001b[0m   \u001b[0mcount\u001b[0m\u001b[0;34m[\u001b[0m\u001b[0mallkeys\u001b[0m\u001b[0;34m[\u001b[0m\u001b[0;36m0\u001b[0m\u001b[0;34m]\u001b[0m\u001b[0;34m]\u001b[0m \u001b[0;34m=\u001b[0m  \u001b[0mnp\u001b[0m\u001b[0;34m.\u001b[0m\u001b[0msum\u001b[0m\u001b[0;34m(\u001b[0m\u001b[0mZ\u001b[0m\u001b[0;34m>\u001b[0m\u001b[0;36m0.5\u001b[0m\u001b[0;34m)\u001b[0m\u001b[0;34m;\u001b[0m\u001b[0;34m\u001b[0m\u001b[0;34m\u001b[0m\u001b[0m\n\u001b[1;32m     62\u001b[0m   \u001b[0mallkeys\u001b[0m \u001b[0;34m=\u001b[0m \u001b[0mallkeys\u001b[0m \u001b[0;34m+\u001b[0m \u001b[0;36m1\u001b[0m\u001b[0;34m;\u001b[0m\u001b[0;34m\u001b[0m\u001b[0;34m\u001b[0m\u001b[0m\n",
            "\u001b[0;32m/usr/local/lib/python3.7/dist-packages/keras/utils/traceback_utils.py\u001b[0m in \u001b[0;36merror_handler\u001b[0;34m(*args, **kwargs)\u001b[0m\n\u001b[1;32m     62\u001b[0m     \u001b[0mfiltered_tb\u001b[0m \u001b[0;34m=\u001b[0m \u001b[0;32mNone\u001b[0m\u001b[0;34m\u001b[0m\u001b[0;34m\u001b[0m\u001b[0m\n\u001b[1;32m     63\u001b[0m     \u001b[0;32mtry\u001b[0m\u001b[0;34m:\u001b[0m\u001b[0;34m\u001b[0m\u001b[0;34m\u001b[0m\u001b[0m\n\u001b[0;32m---> 64\u001b[0;31m       \u001b[0;32mreturn\u001b[0m \u001b[0mfn\u001b[0m\u001b[0;34m(\u001b[0m\u001b[0;34m*\u001b[0m\u001b[0margs\u001b[0m\u001b[0;34m,\u001b[0m \u001b[0;34m**\u001b[0m\u001b[0mkwargs\u001b[0m\u001b[0;34m)\u001b[0m\u001b[0;34m\u001b[0m\u001b[0;34m\u001b[0m\u001b[0m\n\u001b[0m\u001b[1;32m     65\u001b[0m     \u001b[0;32mexcept\u001b[0m \u001b[0mException\u001b[0m \u001b[0;32mas\u001b[0m \u001b[0me\u001b[0m\u001b[0;34m:\u001b[0m  \u001b[0;31m# pylint: disable=broad-except\u001b[0m\u001b[0;34m\u001b[0m\u001b[0;34m\u001b[0m\u001b[0m\n\u001b[1;32m     66\u001b[0m       \u001b[0mfiltered_tb\u001b[0m \u001b[0;34m=\u001b[0m \u001b[0m_process_traceback_frames\u001b[0m\u001b[0;34m(\u001b[0m\u001b[0me\u001b[0m\u001b[0;34m.\u001b[0m\u001b[0m__traceback__\u001b[0m\u001b[0;34m)\u001b[0m\u001b[0;34m\u001b[0m\u001b[0;34m\u001b[0m\u001b[0m\n",
            "\u001b[0;32m/usr/local/lib/python3.7/dist-packages/keras/engine/training.py\u001b[0m in \u001b[0;36mpredict\u001b[0;34m(self, x, batch_size, verbose, steps, callbacks, max_queue_size, workers, use_multiprocessing)\u001b[0m\n\u001b[1;32m   1959\u001b[0m           \u001b[0muse_multiprocessing\u001b[0m\u001b[0;34m=\u001b[0m\u001b[0muse_multiprocessing\u001b[0m\u001b[0;34m,\u001b[0m\u001b[0;34m\u001b[0m\u001b[0;34m\u001b[0m\u001b[0m\n\u001b[1;32m   1960\u001b[0m           \u001b[0mmodel\u001b[0m\u001b[0;34m=\u001b[0m\u001b[0mself\u001b[0m\u001b[0;34m,\u001b[0m\u001b[0;34m\u001b[0m\u001b[0;34m\u001b[0m\u001b[0m\n\u001b[0;32m-> 1961\u001b[0;31m           steps_per_execution=self._steps_per_execution)\n\u001b[0m\u001b[1;32m   1962\u001b[0m \u001b[0;34m\u001b[0m\u001b[0m\n\u001b[1;32m   1963\u001b[0m       \u001b[0;31m# Container that configures and calls `tf.keras.Callback`s.\u001b[0m\u001b[0;34m\u001b[0m\u001b[0;34m\u001b[0m\u001b[0;34m\u001b[0m\u001b[0m\n",
            "\u001b[0;32m/usr/local/lib/python3.7/dist-packages/keras/engine/data_adapter.py\u001b[0m in \u001b[0;36mget_data_handler\u001b[0;34m(*args, **kwargs)\u001b[0m\n\u001b[1;32m   1397\u001b[0m   \u001b[0;32mif\u001b[0m \u001b[0mgetattr\u001b[0m\u001b[0;34m(\u001b[0m\u001b[0mkwargs\u001b[0m\u001b[0;34m[\u001b[0m\u001b[0;34m\"model\"\u001b[0m\u001b[0;34m]\u001b[0m\u001b[0;34m,\u001b[0m \u001b[0;34m\"_cluster_coordinator\"\u001b[0m\u001b[0;34m,\u001b[0m \u001b[0;32mNone\u001b[0m\u001b[0;34m)\u001b[0m\u001b[0;34m:\u001b[0m\u001b[0;34m\u001b[0m\u001b[0;34m\u001b[0m\u001b[0m\n\u001b[1;32m   1398\u001b[0m     \u001b[0;32mreturn\u001b[0m \u001b[0m_ClusterCoordinatorDataHandler\u001b[0m\u001b[0;34m(\u001b[0m\u001b[0;34m*\u001b[0m\u001b[0margs\u001b[0m\u001b[0;34m,\u001b[0m \u001b[0;34m**\u001b[0m\u001b[0mkwargs\u001b[0m\u001b[0;34m)\u001b[0m\u001b[0;34m\u001b[0m\u001b[0;34m\u001b[0m\u001b[0m\n\u001b[0;32m-> 1399\u001b[0;31m   \u001b[0;32mreturn\u001b[0m \u001b[0mDataHandler\u001b[0m\u001b[0;34m(\u001b[0m\u001b[0;34m*\u001b[0m\u001b[0margs\u001b[0m\u001b[0;34m,\u001b[0m \u001b[0;34m**\u001b[0m\u001b[0mkwargs\u001b[0m\u001b[0;34m)\u001b[0m\u001b[0;34m\u001b[0m\u001b[0;34m\u001b[0m\u001b[0m\n\u001b[0m\u001b[1;32m   1400\u001b[0m \u001b[0;34m\u001b[0m\u001b[0m\n\u001b[1;32m   1401\u001b[0m \u001b[0;34m\u001b[0m\u001b[0m\n",
            "\u001b[0;32m/usr/local/lib/python3.7/dist-packages/keras/engine/data_adapter.py\u001b[0m in \u001b[0;36m__init__\u001b[0;34m(self, x, y, sample_weight, batch_size, steps_per_epoch, initial_epoch, epochs, shuffle, class_weight, max_queue_size, workers, use_multiprocessing, model, steps_per_execution, distribute)\u001b[0m\n\u001b[1;32m   1159\u001b[0m         \u001b[0muse_multiprocessing\u001b[0m\u001b[0;34m=\u001b[0m\u001b[0muse_multiprocessing\u001b[0m\u001b[0;34m,\u001b[0m\u001b[0;34m\u001b[0m\u001b[0;34m\u001b[0m\u001b[0m\n\u001b[1;32m   1160\u001b[0m         \u001b[0mdistribution_strategy\u001b[0m\u001b[0;34m=\u001b[0m\u001b[0mtf\u001b[0m\u001b[0;34m.\u001b[0m\u001b[0mdistribute\u001b[0m\u001b[0;34m.\u001b[0m\u001b[0mget_strategy\u001b[0m\u001b[0;34m(\u001b[0m\u001b[0;34m)\u001b[0m\u001b[0;34m,\u001b[0m\u001b[0;34m\u001b[0m\u001b[0;34m\u001b[0m\u001b[0m\n\u001b[0;32m-> 1161\u001b[0;31m         model=model)\n\u001b[0m\u001b[1;32m   1162\u001b[0m \u001b[0;34m\u001b[0m\u001b[0m\n\u001b[1;32m   1163\u001b[0m     \u001b[0mstrategy\u001b[0m \u001b[0;34m=\u001b[0m \u001b[0mtf\u001b[0m\u001b[0;34m.\u001b[0m\u001b[0mdistribute\u001b[0m\u001b[0;34m.\u001b[0m\u001b[0mget_strategy\u001b[0m\u001b[0;34m(\u001b[0m\u001b[0;34m)\u001b[0m\u001b[0;34m\u001b[0m\u001b[0;34m\u001b[0m\u001b[0m\n",
            "\u001b[0;32m/usr/local/lib/python3.7/dist-packages/keras/engine/data_adapter.py\u001b[0m in \u001b[0;36m__init__\u001b[0;34m(self, x, y, sample_weights, sample_weight_modes, batch_size, epochs, steps, shuffle, **kwargs)\u001b[0m\n\u001b[1;32m    326\u001b[0m     \u001b[0mindices_dataset\u001b[0m \u001b[0;34m=\u001b[0m \u001b[0mindices_dataset\u001b[0m\u001b[0;34m.\u001b[0m\u001b[0mflat_map\u001b[0m\u001b[0;34m(\u001b[0m\u001b[0mslice_batch_indices\u001b[0m\u001b[0;34m)\u001b[0m\u001b[0;34m\u001b[0m\u001b[0;34m\u001b[0m\u001b[0m\n\u001b[1;32m    327\u001b[0m \u001b[0;34m\u001b[0m\u001b[0m\n\u001b[0;32m--> 328\u001b[0;31m     \u001b[0mdataset\u001b[0m \u001b[0;34m=\u001b[0m \u001b[0mself\u001b[0m\u001b[0;34m.\u001b[0m\u001b[0mslice_inputs\u001b[0m\u001b[0;34m(\u001b[0m\u001b[0mindices_dataset\u001b[0m\u001b[0;34m,\u001b[0m \u001b[0minputs\u001b[0m\u001b[0;34m)\u001b[0m\u001b[0;34m\u001b[0m\u001b[0;34m\u001b[0m\u001b[0m\n\u001b[0m\u001b[1;32m    329\u001b[0m \u001b[0;34m\u001b[0m\u001b[0m\n\u001b[1;32m    330\u001b[0m     \u001b[0;32mif\u001b[0m \u001b[0mshuffle\u001b[0m \u001b[0;34m==\u001b[0m \u001b[0;34m\"batch\"\u001b[0m\u001b[0;34m:\u001b[0m\u001b[0;34m\u001b[0m\u001b[0;34m\u001b[0m\u001b[0m\n",
            "\u001b[0;32m/usr/local/lib/python3.7/dist-packages/keras/engine/data_adapter.py\u001b[0m in \u001b[0;36mslice_inputs\u001b[0;34m(self, indices_dataset, inputs)\u001b[0m\n\u001b[1;32m    352\u001b[0m     dataset = tf.data.Dataset.zip((\n\u001b[1;32m    353\u001b[0m         \u001b[0mindices_dataset\u001b[0m\u001b[0;34m,\u001b[0m\u001b[0;34m\u001b[0m\u001b[0;34m\u001b[0m\u001b[0m\n\u001b[0;32m--> 354\u001b[0;31m         \u001b[0mtf\u001b[0m\u001b[0;34m.\u001b[0m\u001b[0mdata\u001b[0m\u001b[0;34m.\u001b[0m\u001b[0mDataset\u001b[0m\u001b[0;34m.\u001b[0m\u001b[0mfrom_tensors\u001b[0m\u001b[0;34m(\u001b[0m\u001b[0minputs\u001b[0m\u001b[0;34m)\u001b[0m\u001b[0;34m.\u001b[0m\u001b[0mrepeat\u001b[0m\u001b[0;34m(\u001b[0m\u001b[0;34m)\u001b[0m\u001b[0;34m\u001b[0m\u001b[0;34m\u001b[0m\u001b[0m\n\u001b[0m\u001b[1;32m    355\u001b[0m     ))\n\u001b[1;32m    356\u001b[0m \u001b[0;34m\u001b[0m\u001b[0m\n",
            "\u001b[0;32m/usr/local/lib/python3.7/dist-packages/tensorflow/python/data/ops/dataset_ops.py\u001b[0m in \u001b[0;36mfrom_tensors\u001b[0;34m(tensors, name)\u001b[0m\n\u001b[1;32m    711\u001b[0m       \u001b[0mDataset\u001b[0m\u001b[0;34m:\u001b[0m \u001b[0mA\u001b[0m\u001b[0;31m \u001b[0m\u001b[0;31m`\u001b[0m\u001b[0mDataset\u001b[0m\u001b[0;31m`\u001b[0m\u001b[0;34m.\u001b[0m\u001b[0;34m\u001b[0m\u001b[0;34m\u001b[0m\u001b[0m\n\u001b[1;32m    712\u001b[0m     \"\"\"\n\u001b[0;32m--> 713\u001b[0;31m     \u001b[0;32mreturn\u001b[0m \u001b[0mTensorDataset\u001b[0m\u001b[0;34m(\u001b[0m\u001b[0mtensors\u001b[0m\u001b[0;34m,\u001b[0m \u001b[0mname\u001b[0m\u001b[0;34m=\u001b[0m\u001b[0mname\u001b[0m\u001b[0;34m)\u001b[0m\u001b[0;34m\u001b[0m\u001b[0;34m\u001b[0m\u001b[0m\n\u001b[0m\u001b[1;32m    714\u001b[0m \u001b[0;34m\u001b[0m\u001b[0m\n\u001b[1;32m    715\u001b[0m   \u001b[0;34m@\u001b[0m\u001b[0mstaticmethod\u001b[0m\u001b[0;34m\u001b[0m\u001b[0;34m\u001b[0m\u001b[0m\n",
            "\u001b[0;32m/usr/local/lib/python3.7/dist-packages/tensorflow/python/data/ops/dataset_ops.py\u001b[0m in \u001b[0;36m__init__\u001b[0;34m(self, element, name)\u001b[0m\n\u001b[1;32m   4462\u001b[0m         \u001b[0mself\u001b[0m\u001b[0;34m.\u001b[0m\u001b[0m_tensors\u001b[0m\u001b[0;34m,\u001b[0m\u001b[0;34m\u001b[0m\u001b[0;34m\u001b[0m\u001b[0m\n\u001b[1;32m   4463\u001b[0m         \u001b[0moutput_shapes\u001b[0m\u001b[0;34m=\u001b[0m\u001b[0mstructure\u001b[0m\u001b[0;34m.\u001b[0m\u001b[0mget_flat_tensor_shapes\u001b[0m\u001b[0;34m(\u001b[0m\u001b[0mself\u001b[0m\u001b[0;34m.\u001b[0m\u001b[0m_structure\u001b[0m\u001b[0;34m)\u001b[0m\u001b[0;34m,\u001b[0m\u001b[0;34m\u001b[0m\u001b[0;34m\u001b[0m\u001b[0m\n\u001b[0;32m-> 4464\u001b[0;31m         metadata=self._metadata.SerializeToString())\n\u001b[0m\u001b[1;32m   4465\u001b[0m     \u001b[0msuper\u001b[0m\u001b[0;34m(\u001b[0m\u001b[0mTensorDataset\u001b[0m\u001b[0;34m,\u001b[0m \u001b[0mself\u001b[0m\u001b[0;34m)\u001b[0m\u001b[0;34m.\u001b[0m\u001b[0m__init__\u001b[0m\u001b[0;34m(\u001b[0m\u001b[0mvariant_tensor\u001b[0m\u001b[0;34m)\u001b[0m\u001b[0;34m\u001b[0m\u001b[0;34m\u001b[0m\u001b[0m\n\u001b[1;32m   4466\u001b[0m \u001b[0;34m\u001b[0m\u001b[0m\n",
            "\u001b[0;32m/usr/local/lib/python3.7/dist-packages/tensorflow/python/ops/gen_dataset_ops.py\u001b[0m in \u001b[0;36mtensor_dataset\u001b[0;34m(components, output_shapes, metadata, name)\u001b[0m\n\u001b[1;32m   7451\u001b[0m       _result = pywrap_tfe.TFE_Py_FastPathExecute(\n\u001b[1;32m   7452\u001b[0m         \u001b[0m_ctx\u001b[0m\u001b[0;34m,\u001b[0m \u001b[0;34m\"TensorDataset\"\u001b[0m\u001b[0;34m,\u001b[0m \u001b[0mname\u001b[0m\u001b[0;34m,\u001b[0m \u001b[0mcomponents\u001b[0m\u001b[0;34m,\u001b[0m \u001b[0;34m\"output_shapes\"\u001b[0m\u001b[0;34m,\u001b[0m\u001b[0;34m\u001b[0m\u001b[0;34m\u001b[0m\u001b[0m\n\u001b[0;32m-> 7453\u001b[0;31m         output_shapes, \"metadata\", metadata)\n\u001b[0m\u001b[1;32m   7454\u001b[0m       \u001b[0;32mreturn\u001b[0m \u001b[0m_result\u001b[0m\u001b[0;34m\u001b[0m\u001b[0;34m\u001b[0m\u001b[0m\n\u001b[1;32m   7455\u001b[0m     \u001b[0;32mexcept\u001b[0m \u001b[0m_core\u001b[0m\u001b[0;34m.\u001b[0m\u001b[0m_NotOkStatusException\u001b[0m \u001b[0;32mas\u001b[0m \u001b[0me\u001b[0m\u001b[0;34m:\u001b[0m\u001b[0;34m\u001b[0m\u001b[0;34m\u001b[0m\u001b[0m\n",
            "\u001b[0;31mKeyboardInterrupt\u001b[0m: "
          ]
        }
      ],
      "source": [
        "from google.colab import drive\n",
        "drive.mount('/content/gdrive/')\n",
        "\n",
        "import sys\n",
        "sys.path.insert(0,'/content/LBC-IoT_Github')\n",
        "\n",
        "import numpy as np\n",
        "from os import urandom\n",
        "import lbciot as cipher\n",
        "import pandas as pd\n",
        "import train_nets as tn\n",
        "\n",
        "n = 200; #number of plaintext pairs\n",
        "\n",
        "rounds = 6;\n",
        "epoch = 40;\n",
        "diff1 = 0x0200;\n",
        "diff2 = 0x0000;\n",
        "\n",
        "key = np.frombuffer(urandom(10),dtype=np.uint16).reshape(5,-1);\n",
        "keys = np.frombuffer(urandom(10*n),dtype=np.uint16).reshape(5,-1)*0+1 ;\n",
        "\n",
        "\n",
        "for i in range(0,n):\n",
        "  for j in range(0,5):\n",
        "    keys[j][i]=key[j];\n",
        "\n",
        "\n",
        "pt0l = np.frombuffer(urandom(2*n),dtype=np.uint16);\n",
        "pt0r = np.frombuffer(urandom(2*n),dtype=np.uint16);\n",
        "\n",
        "p0l = np.copy(pt0l); \n",
        "p0r = np.copy(pt0r);\n",
        "\n",
        "p1l = p0l^diff1;\n",
        "p1r = p0r^diff2;\n",
        "\n",
        "ks = cipher.expand_key(keys, rounds + 1);\n",
        "\n",
        "c0l,c0r = cipher.encrypt((p0l,p0r),ks);\n",
        "c1l,c1r = cipher.encrypt((p1l,p1r),ks);\n",
        "\n",
        "\n",
        "\n",
        "from tensorflow import keras\n",
        "\n",
        "name = str(diff1)+\"_\"+str(diff2)+\"_r=\"+str(rounds)+\"_epoch=\"+str(epoch);\n",
        "model = keras.models.load_model('/content/gdrive/MyDrive/LBC-IoT_Github/'+name);\n",
        "\n",
        "allkeys = ks[rounds]*0;\n",
        "\n",
        "count = np.zeros(2**16,dtype=int);\n",
        "\n",
        "for i in range(0,2**16):\n",
        "  if i%10000==0:\n",
        "    print(i);\n",
        "  c0l_dec1,c0r_dec1 = cipher.dec_one_round((c0l,c0r),allkeys);\n",
        "  c1l_dec1,c1r_dec1 = cipher.dec_one_round((c1l,c1r),allkeys);\n",
        "  X = cipher.convert_to_binary([c0l_dec1,c0r_dec1,c1l_dec1,c1r_dec1]);\n",
        "  Z = model.predict(X,batch_size=10000);\n",
        "  count[allkeys[0]] =  np.sum(Z>0.5);\n",
        "  allkeys = allkeys + 1;\n",
        "\n",
        "df = pd.DataFrame(count);\n",
        "df.to_csv('/content/gdrive/MyDrive/LBC-IoT_Github/'+'count_'+str(diff1)+'_'+str(diff2)+'.csv');\n",
        "\n",
        "import matplotlib.pyplot as plt\n",
        "\n",
        "plt.hist(count, bins=100)\n",
        "plt.savefig('/content/gdrive/MyDrive/LBC-IoT_Github/'+name+'_counthist.png')\n",
        "plt.show()\n",
        "\n",
        "\n",
        "count[np.argmax(count)]\n",
        "print('found max:'+str(np.argmax(count)))\n",
        "print('correct key:'+str(ks[rounds][0]));\n",
        "count[41855]\n",
        "sorted_count = -np.sort(-count);\n",
        "temp = count;\n",
        "top = 30;\n",
        "rank = np.zeros((top,2),dtype=int);\n",
        "for i in range(0,top):\n",
        "  max_index = np.argmax(temp);\n",
        "  rank[i][0] = max_index;\n",
        "  rank[i][1] = temp[max_index];\n",
        "  temp[max_index]=-1;\n",
        "\n",
        "print(rank);\n",
        "\n",
        "  \n",
        "\n"
      ]
    },
    {
      "cell_type": "code",
      "execution_count": null,
      "metadata": {
        "id": "h_5-hwiji5cy"
      },
      "outputs": [],
      "source": [
        "count[np.argmax(count)]\n",
        "print('found max:'+str(np.argmax(count)))\n",
        "print('correct key:'+str(ks[rounds][0]));\n",
        "count[41855]\n",
        "sorted_count = -np.sort(-count);\n",
        "temp = count;\n",
        "top = 10;\n",
        "rank = np.zeros((top,2),dtype=int);\n",
        "for i in range(0,top):\n",
        "  max_index = np.argmax(temp);\n",
        "  rank[i][0] = max_index;\n",
        "  rank[i][1] = temp[max_index];\n",
        "  temp[max_index]=-1;\n",
        "\n",
        "print(rank);"
      ]
    }
  ]
}
